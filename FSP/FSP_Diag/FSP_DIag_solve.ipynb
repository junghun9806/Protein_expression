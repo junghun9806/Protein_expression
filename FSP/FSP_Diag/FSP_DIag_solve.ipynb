{
 "cells": [
  {
   "cell_type": "code",
   "execution_count": 2,
   "metadata": {},
   "outputs": [],
   "source": [
    "import time as time\n",
    "import math\n",
    "\n",
    "import numpy as np\n",
    "import matplotlib.pyplot as plt \n",
    "import scipy.linalg as sclin\n",
    "\n",
    "from numba import njit\n",
    "from numba.typed import Dict\n",
    "from numba.core import types\n",
    "\n",
    "from pocs.File_manage import read_write as rw "
   ]
  },
  {
   "cell_type": "code",
   "execution_count": 3,
   "metadata": {},
   "outputs": [],
   "source": [
    "def measure_time(func):\n",
    "    def decorated(param):\n",
    "        x = time.time()\n",
    "        res = func(**param)\n",
    "        dt = time.time()-x\n",
    "        print(dt)\n",
    "        return dt, res\n",
    "    #\n",
    "    return decorated\n",
    "# "
   ]
  },
  {
   "cell_type": "code",
   "execution_count": 4,
   "metadata": {},
   "outputs": [],
   "source": [
    "plot_dir    = \"plots/\"\n",
    "data_dir    = \"data/\" "
   ]
  },
  {
   "cell_type": "markdown",
   "metadata": {},
   "source": [
    "## Chemical Master equation \n",
    "P(m,p) = \n",
    "+alphaR( P(m-1,p) - P(m,p) ) \n",
    "+alphaP( P(m,p-1) - P(m,p) )\n",
    "+dR[ (m+1)P(m+1,p) - mP(m,p) ]\n",
    "+dP[ (p+1)P(m,p+1) - pP(m,p) ]\n",
    "\n",
    "\n"
   ]
  },
  {
   "cell_type": "code",
   "execution_count": 5,
   "metadata": {},
   "outputs": [],
   "source": [
    "@njit \n",
    "def delta(a, b): \n",
    "    if a == b:\n",
    "        return 1 \n",
    "    else : \n",
    "        return 0 \n",
    "    #\n",
    "# \n"
   ]
  },
  {
   "cell_type": "code",
   "execution_count": 6,
   "metadata": {},
   "outputs": [],
   "source": [
    "@njit\n",
    "def element_fun(i, j, pmax, mmax, alpha, beta, gamma):\n",
    "    \n",
    "    m = i // (pmax + 1)\n",
    "    p = i % (pmax + 1)\n",
    "    \n",
    "    mp = j // (pmax + 1)\n",
    "    pp = j % (pmax + 1)\n",
    "    \n",
    "    Mij =   alpha * (      delta(m-1, mp)*delta(p, pp) - delta(m, mp)*delta(p, pp) ) \n",
    "    Mij +=  beta * gamma * m * (  delta(m, mp)*delta(p-1, pp) - delta(m, mp)*delta(p, pp) )\n",
    "    Mij +=  gamma * (  (m+1)*delta(m+1, mp)*delta(p, pp) - m*delta(m,mp)*delta(p,pp) )    \n",
    "    Mij +=  (p+1)*delta(m, mp)*delta(p+1, pp) - p*delta(m,mp)*delta(p,pp)\n",
    "\n",
    "\n",
    "    return Mij \n",
    "\n",
    "@njit\n",
    "def fill_matrix_FSP_Diag(mat_len, pmax, mmax, mat, alpha, beta, gamma):\n",
    "    for i in range(mat_len-1): \n",
    "        for j in range(mat_len-1):\n",
    "            mat[i][j] = element_fun(i, j, pmax, mmax, alpha, beta, gamma)\n",
    "        #\n",
    "    #\n",
    "    \n",
    "    i = mat_len - 1\n",
    "    for j in range(mat_len-1):\n",
    "        mp = j // (pmax + 1)\n",
    "        pp = j % (pmax + 1)\n",
    "        \n",
    "        rate = 0\n",
    "        if mp == mmax : \n",
    "            rate += alpha \n",
    "        if pp == pmax :\n",
    "            rate += mp*beta*gamma  \n",
    "        # \n",
    "        \n",
    "        mat[i][j] = rate \n",
    "    \n",
    "    return mat \n",
    "#\n",
    "\n",
    "@njit \n",
    "def Transition_Matrix_Normalization(mat_len, mat):\n",
    "    for i in range(mat_len):\n",
    "        mat[i][i] = mat[i][i] - sum(mat[:,i]) \n",
    "    #\n",
    "    return mat\n",
    "#"
   ]
  },
  {
   "cell_type": "code",
   "execution_count": 17,
   "metadata": {},
   "outputs": [],
   "source": [
    "para_list = [20, 2.5, 10]\n",
    "\n",
    "pmax = 199\n",
    "mmax = 9\n",
    "mat_len = (pmax+1) * (mmax + 1) + 1\n",
    "M = np.zeros((mat_len, mat_len), dtype=float)\n",
    "\n",
    "I = np.zeros((mat_len, mat_len), dtype=float)\n",
    "for i in range(mat_len):\n",
    "    I[i][i] = 1 \n",
    "# \n",
    "\n",
    "M = fill_matrix_FSP_Diag(mat_len, pmax, mmax, M, *para_list)\n",
    "M = Transition_Matrix_Normalization(mat_len, M)\n",
    "eig_val, eig_vec = np.linalg.eig(M)\n"
   ]
  },
  {
   "cell_type": "code",
   "execution_count": 44,
   "metadata": {},
   "outputs": [
    {
     "name": "stderr",
     "output_type": "stream",
     "text": [
      "/home/jhchae/miniconda3/envs/jh/lib/python3.7/site-packages/ipykernel_launcher.py:20: ComplexWarning: Casting complex values to real discards the imaginary part\n",
      "/home/jhchae/miniconda3/envs/jh/lib/python3.7/site-packages/ipykernel_launcher.py:23: ComplexWarning: Casting complex values to real discards the imaginary part\n",
      "/home/jhchae/miniconda3/envs/jh/lib/python3.7/site-packages/ipykernel_launcher.py:20: ComplexWarning: Casting complex values to real discards the imaginary part\n",
      "/home/jhchae/miniconda3/envs/jh/lib/python3.7/site-packages/ipykernel_launcher.py:23: ComplexWarning: Casting complex values to real discards the imaginary part\n",
      "/home/jhchae/miniconda3/envs/jh/lib/python3.7/site-packages/ipykernel_launcher.py:20: ComplexWarning: Casting complex values to real discards the imaginary part\n",
      "/home/jhchae/miniconda3/envs/jh/lib/python3.7/site-packages/ipykernel_launcher.py:23: ComplexWarning: Casting complex values to real discards the imaginary part\n",
      "/home/jhchae/miniconda3/envs/jh/lib/python3.7/site-packages/ipykernel_launcher.py:20: ComplexWarning: Casting complex values to real discards the imaginary part\n",
      "/home/jhchae/miniconda3/envs/jh/lib/python3.7/site-packages/ipykernel_launcher.py:23: ComplexWarning: Casting complex values to real discards the imaginary part\n",
      "/home/jhchae/miniconda3/envs/jh/lib/python3.7/site-packages/ipykernel_launcher.py:20: ComplexWarning: Casting complex values to real discards the imaginary part\n",
      "/home/jhchae/miniconda3/envs/jh/lib/python3.7/site-packages/ipykernel_launcher.py:23: ComplexWarning: Casting complex values to real discards the imaginary part\n",
      "/home/jhchae/miniconda3/envs/jh/lib/python3.7/site-packages/ipykernel_launcher.py:20: ComplexWarning: Casting complex values to real discards the imaginary part\n",
      "/home/jhchae/miniconda3/envs/jh/lib/python3.7/site-packages/ipykernel_launcher.py:23: ComplexWarning: Casting complex values to real discards the imaginary part\n",
      "/home/jhchae/miniconda3/envs/jh/lib/python3.7/site-packages/ipykernel_launcher.py:20: ComplexWarning: Casting complex values to real discards the imaginary part\n",
      "/home/jhchae/miniconda3/envs/jh/lib/python3.7/site-packages/ipykernel_launcher.py:23: ComplexWarning: Casting complex values to real discards the imaginary part\n",
      "/home/jhchae/miniconda3/envs/jh/lib/python3.7/site-packages/ipykernel_launcher.py:20: ComplexWarning: Casting complex values to real discards the imaginary part\n",
      "/home/jhchae/miniconda3/envs/jh/lib/python3.7/site-packages/ipykernel_launcher.py:23: ComplexWarning: Casting complex values to real discards the imaginary part\n",
      "/home/jhchae/miniconda3/envs/jh/lib/python3.7/site-packages/ipykernel_launcher.py:20: ComplexWarning: Casting complex values to real discards the imaginary part\n",
      "/home/jhchae/miniconda3/envs/jh/lib/python3.7/site-packages/ipykernel_launcher.py:23: ComplexWarning: Casting complex values to real discards the imaginary part\n",
      "/home/jhchae/miniconda3/envs/jh/lib/python3.7/site-packages/ipykernel_launcher.py:20: ComplexWarning: Casting complex values to real discards the imaginary part\n",
      "/home/jhchae/miniconda3/envs/jh/lib/python3.7/site-packages/ipykernel_launcher.py:23: ComplexWarning: Casting complex values to real discards the imaginary part\n"
     ]
    },
    {
     "data": {
      "text/plain": [
       "<Figure size 1152x648 with 0 Axes>"
      ]
     },
     "metadata": {},
     "output_type": "display_data"
    },
    {
     "data": {
      "text/plain": [
       "<Figure size 1152x648 with 0 Axes>"
      ]
     },
     "metadata": {},
     "output_type": "display_data"
    },
    {
     "data": {
      "text/plain": [
       "<Figure size 1152x648 with 0 Axes>"
      ]
     },
     "metadata": {},
     "output_type": "display_data"
    },
    {
     "data": {
      "text/plain": [
       "<Figure size 1152x648 with 0 Axes>"
      ]
     },
     "metadata": {},
     "output_type": "display_data"
    },
    {
     "data": {
      "text/plain": [
       "<Figure size 1152x648 with 0 Axes>"
      ]
     },
     "metadata": {},
     "output_type": "display_data"
    },
    {
     "data": {
      "text/plain": [
       "<Figure size 1152x648 with 0 Axes>"
      ]
     },
     "metadata": {},
     "output_type": "display_data"
    },
    {
     "data": {
      "text/plain": [
       "<Figure size 1152x648 with 0 Axes>"
      ]
     },
     "metadata": {},
     "output_type": "display_data"
    },
    {
     "data": {
      "text/plain": [
       "<Figure size 1152x648 with 0 Axes>"
      ]
     },
     "metadata": {},
     "output_type": "display_data"
    },
    {
     "data": {
      "text/plain": [
       "<Figure size 1152x648 with 0 Axes>"
      ]
     },
     "metadata": {},
     "output_type": "display_data"
    },
    {
     "data": {
      "text/plain": [
       "<Figure size 1152x648 with 0 Axes>"
      ]
     },
     "metadata": {},
     "output_type": "display_data"
    }
   ],
   "source": [
    "\"\"\"\n",
    "num_analyze: how many eigen values, eigen vectors to analyze.\n",
    "\"\"\"\n",
    "num_analyze = 10 \n",
    "\n",
    "arg_sort_eig = eig_val.argsort()\n",
    "arg_sort_eig = np.flip(arg_sort_eig)\n",
    "\n",
    "prob_eq = np.zeros((mmax+1, pmax+1))\n",
    "prob_g  = np.zeros((1, 1))\n",
    "for idx, eig_idx in enumerate(arg_sort_eig[:num_analyze]):\n",
    "    max_vec = eig_vec[:,eig_idx]\n",
    "    eig_value = eig_val[eig_idx]\n",
    "\n",
    "    vec_norm = sum(max_vec)\n",
    "    for i in range(len(max_vec)-1): \n",
    "        m = i // (pmax + 1)\n",
    "        p = i % (pmax + 1)\n",
    "        \n",
    "        prob_eq[m,p] = max_vec[i]/vec_norm\n",
    "    # \n",
    "    \n",
    "    prob_g[0][0] = max_vec[-1]/vec_norm\n",
    "    min_p = np.min([np.min(prob_eq)])\n",
    "    max_p = np.max([np.max(prob_eq)])\n",
    "    \n",
    "    fig, axes = plt.subplots(1,2, figsize=(16,9), gridspec_kw={\"width_ratios\" : [8,1]})\n",
    "    fig.tight_layout()\n",
    "    ax_prob = axes[0]\n",
    "    ax_prob.set_title(f\"Lambda = {-round(eig_value,4)}, \\n alpha {para_list[0]} beta {para_list[1]} gamma {para_list[2]}\")\n",
    "    ax_prob.set_xlabel(\"Protein #\")\n",
    "    ax_prob.set_ylabel(\"mRNA #\")\n",
    "    im_prob = ax_prob.imshow(prob_eq, aspect=10, origin=\"lower\", vmin = min_p, vmax=max_p)\n",
    "    plt.colorbar(im_prob, ax=ax_prob)\n",
    "    \n",
    "    ax_g = axes[1]\n",
    "    ax_g.set_title(\"probability \\n g (sink state)\")\n",
    "    im_g = ax_g.imshow(prob_g, origin=\"lower\")\n",
    "    plt.colorbar(im_g, ax=ax_g)\n",
    "    \n",
    "    plt.savefig(plot_dir +f\"Sol_P_lambda{idx:03d}.png\", dpi = 300)\n",
    "    plt.clf()\n",
    "    \n",
    "    plt.plot(sum(prob_eq.T), marker=\"o\")\n",
    "    plt.grid()\n",
    "    plt.title(f\"mRNA Lambda = {-round(eig_value,4)}, \\n alpha {para_list[0]} beta {para_list[1]} gamma {para_list[2]}\")\n",
    "    plt.savefig(plot_dir + f\"Sol_P_lambda{idx:03d}_mRNA.png\", dpi = 300)\n",
    "    plt.clf()\n",
    "    \n",
    "    plt.plot(sum(prob_eq), marker=\"o\")\n",
    "    plt.grid()\n",
    "    plt.title(f\"Protien Lambda = {-round(eig_value,4)}, \\n alpha {para_list[0]} beta {para_list[1]} gamma {para_list[2]}\")\n",
    "    plt.savefig(plot_dir + f\"Sol_P_lambda{idx:03d}_Protein.png\", dpi = 300)\n",
    "    plt.clf()\n",
    "    \n",
    "    \n",
    "    \n",
    "rw.pickle_dump(data_dir, f\"FSP_Diag_p_{pmax}_m_{mmax}_para_{para_list[0]}_{para_list[1]}_{para_list[2]}_eig.bin\", eig_val[0])\n",
    "rw.pickle_dump(data_dir, f\"FSP_Diag_p_{pmax}_m_{mmax}_para_{para_list[0]}_{para_list[1]}_{para_list[2]}_vec.bin\", eig_vec[1])"
   ]
  }
 ],
 "metadata": {
  "interpreter": {
   "hash": "d3c206301a14a7b569d0a8f162978df19e4035378bb68519f974cdde732185c1"
  },
  "kernelspec": {
   "display_name": "Python 3.7.11 ('jh')",
   "language": "python",
   "name": "python3"
  },
  "language_info": {
   "codemirror_mode": {
    "name": "ipython",
    "version": 3
   },
   "file_extension": ".py",
   "mimetype": "text/x-python",
   "name": "python",
   "nbconvert_exporter": "python",
   "pygments_lexer": "ipython3",
   "version": "3.7.11"
  },
  "orig_nbformat": 4
 },
 "nbformat": 4,
 "nbformat_minor": 2
}
