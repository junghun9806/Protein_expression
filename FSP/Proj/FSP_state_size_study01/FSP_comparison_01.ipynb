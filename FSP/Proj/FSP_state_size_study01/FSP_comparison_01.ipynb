{
 "cells": [
  {
   "cell_type": "code",
   "execution_count": 1,
   "metadata": {},
   "outputs": [
    {
     "name": "stdout",
     "output_type": "stream",
     "text": [
      "ddfsdf\n"
     ]
    }
   ],
   "source": [
    "import os\n",
    "import multiprocessing as mp \n",
    "\n",
    "import numpy as  np\n",
    "import sys \n",
    "\n",
    "from pathlib import Path\n",
    "\n",
    "sys.path.append(str(Path(os.getcwd()).parent.absolute()))\n",
    "\n",
    "from src import fb \n",
    "from src import fsp_diag as fsp \n",
    "from src import fsp_diag_m1 as fspm1 \n",
    "\n",
    "from src.pocs.File_manage import read_write as rw"
   ]
  },
  {
   "cell_type": "code",
   "execution_count": 3,
   "metadata": {},
   "outputs": [
    {
     "name": "stdout",
     "output_type": "stream",
     "text": [
      "/home/jhchae/Ongoing/Protein_expression/FSP/Proj\n"
     ]
    }
   ],
   "source": [
    "from pathlib import Path\n",
    "path = Path(os.getcwd())\n",
    "print(path.parent.absolute())"
   ]
  },
  {
   "cell_type": "code",
   "execution_count": null,
   "metadata": {},
   "outputs": [],
   "source": [
    "def fsp_comparison(pmax, mmax, para_list):\n",
    "    proj_dir = \"FSP_comparison_01/\" \n",
    "\n",
    "    rw.make_dir(proj_dir)\n",
    "\n",
    "    case_dir = proj_dir + f\"p_{pmax}_m_{mmax}/\"\n",
    "    data_dir = case_dir + \"data/\"\n",
    "    plot_dir = case_dir + \"plot/\"\n",
    "    rw.make_dir(case_dir)\n",
    "    rw.make_dir(data_dir)\n",
    "    rw.make_dir(plot_dir)\n",
    "    \n",
    "    file_prefix = f\"p_{pmax}_m_{mmax}_para_{para_list[0]}_{para_list[1]}_{para_list[2]}\"\n",
    "    \n",
    "    file_prefix_fb      = f\"FB_\" + file_prefix\n",
    "    file_prefix_fsp     = f\"FSP_\" + file_prefix\n",
    "    file_prefix_fspm1   = f\"FSP_M1_\" + file_prefix\n",
    "    \n",
    "    max_rank = 5\n",
    "    \n",
    "    fb.do_all_FB(pmax, mmax, para_list, max_rank, plot_dir, data_dir)\n",
    "    fsp.do_all_FSP(pmax, mmax, para_list, max_rank, plot_dir, data_dir)\n",
    "    fspm1.do_all_FSP_M1(pmax, mmax, para_list, max_rank, plot_dir, data_dir)\n",
    "#"
   ]
  },
  {
   "cell_type": "code",
   "execution_count": null,
   "metadata": {},
   "outputs": [],
   "source": [
    "pmax_list = np.arange(1,199,2) \n",
    "mmax_list = np.arange(1,9,2)\n",
    "\n",
    "para_list = [20, 2.5, 10]\n",
    "\n",
    "work_list= [] \n",
    "for mmax in mmax_list: \n",
    "    for pmax in pmax_list:\n",
    "        work_list.append((mmax, pmax, para_list))\n",
    "    # \n",
    "#"
   ]
  },
  {
   "cell_type": "code",
   "execution_count": null,
   "metadata": {},
   "outputs": [],
   "source": [
    "pool = mp.Pool(64) \n",
    "pool.starmap(fsp_comparison, work_list)"
   ]
  }
 ],
 "metadata": {
  "interpreter": {
   "hash": "31f2aee4e71d21fbe5cf8b01ff0e069b9275f58929596ceb00d14d90e3e16cd6"
  },
  "kernelspec": {
   "display_name": "Python 3.8.10 64-bit",
   "language": "python",
   "name": "python3"
  },
  "language_info": {
   "codemirror_mode": {
    "name": "ipython",
    "version": 3
   },
   "file_extension": ".py",
   "mimetype": "text/x-python",
   "name": "python",
   "nbconvert_exporter": "python",
   "pygments_lexer": "ipython3",
   "version": "3.7.11"
  },
  "orig_nbformat": 4
 },
 "nbformat": 4,
 "nbformat_minor": 2
}
