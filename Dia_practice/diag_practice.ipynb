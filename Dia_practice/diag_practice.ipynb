{
 "cells": [
  {
   "cell_type": "code",
   "execution_count": 1,
   "metadata": {},
   "outputs": [],
   "source": [
    "import tensorflow as tf \n",
    "from tensorflow.linalg import eig \n",
    "import numpy as np\n",
    "import time\n",
    "import random as rd \n",
    "import matplotlib.pyplot as plt "
   ]
  },
  {
   "cell_type": "code",
   "execution_count": 2,
   "metadata": {},
   "outputs": [],
   "source": [
    "def measure_time(func):\n",
    "    def decorated(param):\n",
    "        x = time.time()\n",
    "        func(param)\n",
    "        dt = time.time()-x\n",
    "        print(dt)\n",
    "        return dt\n",
    "    #\n",
    "    return decorated\n",
    "# "
   ]
  },
  {
   "cell_type": "code",
   "execution_count": 3,
   "metadata": {},
   "outputs": [],
   "source": [
    "x = np.array([\n",
    "    [1,2,3],\n",
    "    [4,5,6],\n",
    "    [7,8,9]\n",
    "])"
   ]
  },
  {
   "cell_type": "code",
   "execution_count": 4,
   "metadata": {},
   "outputs": [
    {
     "name": "stderr",
     "output_type": "stream",
     "text": [
      "2022-03-02 07:09:16.889145: I tensorflow/core/platform/cpu_feature_guard.cc:151] This TensorFlow binary is optimized with oneAPI Deep Neural Network Library (oneDNN) to use the following CPU instructions in performance-critical operations:  AVX2 AVX512F FMA\n",
      "To enable them in other operations, rebuild TensorFlow with the appropriate compiler flags.\n",
      "2022-03-02 07:09:18.561003: I tensorflow/core/common_runtime/gpu/gpu_device.cc:1525] Created device /job:localhost/replica:0/task:0/device:GPU:0 with 22302 MB memory:  -> device: 0, name: NVIDIA GeForce RTX 3090, pci bus id: 0000:18:00.0, compute capability: 8.6\n",
      "2022-03-02 07:09:18.561616: I tensorflow/core/common_runtime/gpu/gpu_device.cc:1525] Created device /job:localhost/replica:0/task:0/device:GPU:1 with 22302 MB memory:  -> device: 1, name: NVIDIA GeForce RTX 3090, pci bus id: 0000:3b:00.0, compute capability: 8.6\n",
      "2022-03-02 07:09:18.562116: I tensorflow/core/common_runtime/gpu/gpu_device.cc:1525] Created device /job:localhost/replica:0/task:0/device:GPU:2 with 22302 MB memory:  -> device: 2, name: NVIDIA GeForce RTX 3090, pci bus id: 0000:86:00.0, compute capability: 8.6\n",
      "2022-03-02 07:09:18.562578: I tensorflow/core/common_runtime/gpu/gpu_device.cc:1525] Created device /job:localhost/replica:0/task:0/device:GPU:3 with 22302 MB memory:  -> device: 3, name: NVIDIA GeForce RTX 3090, pci bus id: 0000:af:00.0, compute capability: 8.6\n"
     ]
    }
   ],
   "source": [
    "xtf = tf.constant(x, dtype = tf.float64)"
   ]
  },
  {
   "cell_type": "code",
   "execution_count": 5,
   "metadata": {},
   "outputs": [],
   "source": [
    "eiglam, eigvec = eig(xtf)"
   ]
  },
  {
   "cell_type": "code",
   "execution_count": 6,
   "metadata": {},
   "outputs": [
    {
     "data": {
      "text/plain": [
       "<tf.Tensor: shape=(3,), dtype=complex128, numpy=array([ 5.72978573e-17+0.j, -1.11684397e+00+0.j,  1.61168440e+01+0.j])>"
      ]
     },
     "execution_count": 6,
     "metadata": {},
     "output_type": "execute_result"
    }
   ],
   "source": [
    "eiglam"
   ]
  },
  {
   "cell_type": "code",
   "execution_count": 7,
   "metadata": {},
   "outputs": [
    {
     "data": {
      "text/plain": [
       "<tf.Tensor: shape=(3, 3), dtype=complex128, numpy=\n",
       "array([[-0.40824829+0.j, -0.78583024+0.j,  0.23197069+0.j],\n",
       "       [ 0.81649658+0.j, -0.08675134+0.j,  0.52532209+0.j],\n",
       "       [-0.40824829+0.j,  0.61232756+0.j,  0.8186735 +0.j]])>"
      ]
     },
     "execution_count": 7,
     "metadata": {},
     "output_type": "execute_result"
    }
   ],
   "source": [
    "eigvec"
   ]
  },
  {
   "cell_type": "code",
   "execution_count": 8,
   "metadata": {},
   "outputs": [],
   "source": [
    "@measure_time\n",
    "def numpy_diag(xx):\n",
    "    np.linalg.eig(xx)\n",
    "# \n",
    "\n",
    "@measure_time\n",
    "def tf_diag(xx):\n",
    "    eig(xx)\n",
    "# "
   ]
  },
  {
   "cell_type": "code",
   "execution_count": 9,
   "metadata": {},
   "outputs": [
    {
     "name": "stdout",
     "output_type": "stream",
     "text": [
      "1.0352060794830322\n",
      "1000\n",
      "2.6418070793151855\n",
      "2000\n",
      "7.001067638397217\n",
      "3000\n",
      "14.900269031524658\n",
      "4000\n",
      "25.685444593429565\n",
      "5000\n",
      "51.30526304244995\n",
      "6000\n",
      "67.79494428634644\n",
      "7000\n",
      "93.13854217529297\n",
      "8000\n",
      "126.89005923271179\n",
      "9000\n"
     ]
    },
    {
     "data": {
      "image/png": "[encoded data removed]",
      "text/plain": [
       "<Figure size 432x288 with 1 Axes>"
      ]
     },
     "metadata": {
      "needs_background": "light"
     },
     "output_type": "display_data"
    }
   ],
   "source": [
    "np_time = []\n",
    "tf_time = []\n",
    "xaxis = range(1000,10000,1000)\n",
    "for i in xaxis:\n",
    "    x = np.array([[rd.uniform(0.1,1000) for _ in range(i)] for __ in range(i)])\n",
    "    #xtf = tf.constant(x, dtype=tf.float64)\n",
    "    \n",
    "    np_time.append(numpy_diag(x))\n",
    "    #tf_time.append(tf_diag(xtf))\n",
    "    print(i)\n",
    "# \n",
    "plt.plot(xaxis, np_time, label=\"Numpy\")\n",
    "#plt.plot(xaxis, tf_time, label=\"TF\")\n",
    "plt.legend()\n",
    "plt.show()"
   ]
  }
 ],
 "metadata": {
  "interpreter": {
   "hash": "dd70de54095f33782a6d374c35ac9d510071c6034d55a805177d8b451043f833"
  },
  "kernelspec": {
   "display_name": "Python 3.9.7 ('ANN')",
   "language": "python",
   "name": "python3"
  },
  "language_info": {
   "codemirror_mode": {
    "name": "ipython",
    "version": 3
   },
   "file_extension": ".py",
   "mimetype": "text/x-python",
   "name": "python",
   "nbconvert_exporter": "python",
   "pygments_lexer": "ipython3",
   "version": "3.9.7"
  },
  "orig_nbformat": 4
 },
 "nbformat": 4,
 "nbformat_minor": 2
}
